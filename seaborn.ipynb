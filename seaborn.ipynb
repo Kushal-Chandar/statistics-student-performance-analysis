{
 "cells": [
  {
   "cell_type": "code",
   "execution_count": null,
   "metadata": {},
   "outputs": [],
   "source": []
  }
 ],
 "metadata": {
  "kernelspec": {
   "display_name": "Python 3.11.0 64-bit",
   "language": "python",
   "name": "python3"
  },
  "language_info": {
   "name": "python",
   "version": "3.11.0"
  },
  "orig_nbformat": 4,
  "vscode": {
   "interpreter": {
    "hash": "0486765924c3ba11c00fe54c9aaac9acd132ffa9b4bf7c1ff67332d6600234f4"
   }
  }
 },
 "nbformat": 4,
 "nbformat_minor": 2
}
